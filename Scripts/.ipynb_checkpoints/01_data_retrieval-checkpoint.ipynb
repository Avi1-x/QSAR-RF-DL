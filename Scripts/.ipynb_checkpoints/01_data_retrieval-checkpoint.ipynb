{
 "cells": [
  {
   "cell_type": "code",
   "execution_count": 1,
   "id": "e542dd88-5d4e-4e80-8b70-e9acb322ded8",
   "metadata": {},
   "outputs": [],
   "source": [
    "import os\n",
    "import numpy as np\n",
    "import pandas as pd\n",
    "from collections import defaultdict\n",
    "%load_ext sql"
   ]
  },
  {
   "cell_type": "markdown",
   "id": "ddc33730-a22e-4fba-ab6c-2b75571af027",
   "metadata": {},
   "source": [
    "# Database Connection String"
   ]
  },
  {
   "cell_type": "code",
   "execution_count": 2,
   "id": "31399f70-e45a-4ead-a4c8-8e10a7b1edc1",
   "metadata": {},
   "outputs": [],
   "source": [
    "connection_string = \"postgresql://Avi@localhost/CHEMBL_34\""
   ]
  },
  {
   "cell_type": "markdown",
   "id": "faefeac0-5f9e-455c-8fd6-2f12ca2583a4",
   "metadata": {},
   "source": [
    "# Directory Setup"
   ]
  },
  {
   "cell_type": "code",
   "execution_count": 3,
   "id": "979e6e3d-aebd-4c4c-be88-7f6de738a516",
   "metadata": {},
   "outputs": [],
   "source": [
    "curated_data_directory = '/Users/Avi/Dissertation/Data/Curated/Raw'\n",
    "non_curated_data_directory = '/Users/Avi/Dissertation/Data/Non_Curated/Raw'\n",
    "os.makedirs(curated_data_directory, exist_ok=True)\n",
    "os.makedirs(non_curated_data_directory, exist_ok=True)"
   ]
  },
  {
   "cell_type": "markdown",
   "id": "2e7a852c-48d4-4f0a-ab3f-35da6a29c209",
   "metadata": {},
   "source": [
    "# Curated Data"
   ]
  },
  {
   "cell_type": "code",
   "execution_count": 4,
   "id": "f60a039e-9de3-46cf-bd51-0e790fc68a32",
   "metadata": {
    "scrolled": true
   },
   "outputs": [],
   "source": [
    "def gather_data_for_size(minAssaySize=1, maxAssaySize=100000, \n",
    "                         onlyDocs=True, removeMutants=True, noDuplicateDocs=True, \n",
    "                         onlyHighConfidence=True, readout='IC50'):\n",
    "    \"\"\"\n",
    "    Gather curated data from the CHEMBL database based on specified criteria.\n",
    "    \"\"\"\n",
    "    %config SqlMagic.feedback = False\n",
    "    %sql $connection_string\n",
    "\n",
    "    # Create temp_assays table\n",
    "    %sql drop table if exists temp_assays\n",
    "    %sql \\\n",
    "    select assay_id, assays.chembl_id assay_chembl_id, description, tid, targets.chembl_id target_chembl_id, \\\n",
    "              count(distinct(molregno)) cnt, pref_name, assays.doc_id doc_id, docs.year doc_date, variant_id \\\n",
    "            into temporary table temp_assays  \\\n",
    "            from activities  \\\n",
    "            join assays using(assay_id)  \\\n",
    "            join docs on (assays.doc_id = docs.doc_id)  \\\n",
    "            join target_dictionary as targets using (tid) \\\n",
    "            where pchembl_value is not null \\\n",
    "            and standard_units in ('nM')  \\\n",
    "            and standard_relation = '=' \\\n",
    "            and target_type = 'SINGLE PROTEIN' \\\n",
    "            group by (assay_id, assays.chembl_id, description, tid, targets.chembl_id, pref_name, \\\n",
    "                      assays.doc_id, docs.year, variant_id) \\\n",
    "            order by cnt desc;\n",
    "\n",
    "    # Apply filters\n",
    "    if onlyDocs:\n",
    "        %sql delete from temp_assays where doc_date is null or doc_date < 2000;\n",
    "\n",
    "    if removeMutants:\n",
    "        %sql delete from temp_assays where variant_id is null and (lower(description) like '%mutant%' or lower(description) like '%variant%' or lower(description) like '%mutation%');       \n",
    "\n",
    "    if onlyHighConfidence:\n",
    "        %sql alter table temp_assays rename to temp_assays_1;\n",
    "        %sql select ta1.* into temporary table temp_assays from temp_assays_1 ta1 join assays using(assay_id) where confidence_score = 9;\n",
    "        %sql drop table temp_assays_1;\n",
    "\n",
    "    # Create goldilocks table\n",
    "    %sql drop table if exists goldilocks\n",
    "    %sql select assay_id, tid, molregno, standard_type into temporary table goldilocks from activities join temp_assays using (assay_id) where pchembl_value is not null and cnt <= :maxAssaySize;\n",
    "\n",
    "    # Create tmp_counts table\n",
    "    %sql drop table if exists tmp_counts\n",
    "    %sql select assay_id, g.tid, count(distinct molregno) cnt, doc_id into temporary table tmp_counts from goldilocks g join assays using (assay_id) group by (assay_id, g.tid, doc_id) order by cnt desc;\n",
    "    \n",
    "    %sql drop table if exists goldilocks_counts\n",
    "\n",
    "    if noDuplicateDocs:\n",
    "        %sql select distinct on (tid, doc_id) assay_id, tid, doc_id, cnt into temporary table goldilocks_counts from tmp_counts where cnt >= :minAssaySize and cnt <= :maxAssaySize;\n",
    "    else:\n",
    "        %sql select distinct on (tid, assay_id) assay_id, tid, doc_id, cnt into temporary table goldilocks_counts from tmp_counts where cnt >= :minAssaySize and cnt <= :maxAssaySize;\n",
    "        \n",
    "    %sql drop table if exists goldilocks_target_counts\n",
    "    %sql select tid, count(distinct assay_id) target_assay_count, sum(cnt) target_compound_count into temporary table goldilocks_target_counts from goldilocks_counts gc group by (tid);\n",
    "\n",
    "    # Retrieve the raw data\n",
    "    raw_data = %sql \\\n",
    "      select assay_id, assay_chembl_id, temp_assays.tid, target_chembl_id, standard_type, pchembl_value, \\\n",
    "        md5(textin(record_out((assay_type, assay_organism, assay_category, assay_tax_id, \\\n",
    "                  assay_strain, assay_tissue, assay_cell_type, assay_subcellular_fraction, bao_format, temp_assays.variant_id)))) assay_conditions_hash, \\\n",
    "        molregno, cid.chembl_id compound_chembl_id, canonical_smiles \\\n",
    "        from activities \\\n",
    "        join temp_assays using (assay_id) \\\n",
    "        join goldilocks_target_counts using (tid) \\\n",
    "        join goldilocks_counts using (assay_id) \\\n",
    "        join assays using (assay_id) \\\n",
    "        join chembl_id_lookup cid on (entity_type='COMPOUND' and molregno=entity_id) \\\n",
    "        join compound_structures using (molregno) \\\n",
    "        where target_assay_count >= 20 and target_compound_count >= 1000 \\\n",
    "              and pchembl_value is not null \\\n",
    "              and standard_units = 'nM'  \\\n",
    "              and data_validity_comment is null  \\\n",
    "              and standard_relation = '=' \\\n",
    "              and standard_type = :readout;\n",
    "\n",
    "    # Process and save data\n",
    "    min_dataset_size = 10 \n",
    "    collected_data = defaultdict(list)\n",
    "    assay_conditions_accum = defaultdict(set)\n",
    "    assay_accum = defaultdict(set)\n",
    "\n",
    "    for (_, assay_chembl_id, _, target_chembl_id, standard_type, pchembl_value, \n",
    "         assay_conditions_hash, _, compound_chembl_id, canonical_smiles) in raw_data:\n",
    "        collected_data[(target_chembl_id, assay_conditions_hash)].append((assay_chembl_id, compound_chembl_id, canonical_smiles, pchembl_value))\n",
    "        assay_conditions_accum[target_chembl_id].add(assay_conditions_hash)\n",
    "        assay_accum[(target_chembl_id, assay_conditions_hash)].add(assay_chembl_id)\n",
    "\n",
    "    for target_chembl_id, conds in collected_data.keys():\n",
    "        rows = collected_data[(target_chembl_id, conds)]\n",
    "        if len(rows) < min_dataset_size:\n",
    "            continue\n",
    "        \n",
    "        cols = np.array(rows).transpose()\n",
    "        cond_idx = list(assay_conditions_accum[target_chembl_id]).index(conds) + 1\n",
    "        \n",
    "        columns = ['assay_chembl_id', 'compound_chembl_id', 'canonical_smiles', 'pchembl_value']\n",
    "        df = pd.DataFrame(dict(zip(columns, cols)))\n",
    "        fname = os.path.join(curated_data_directory, f'target_{target_chembl_id}-{cond_idx}.csv.gz')\n",
    "        df.to_csv(fname, index=False)"
   ]
  },
  {
   "cell_type": "markdown",
   "id": "fab2fbc1-25cd-4868-a926-076ca56b5973",
   "metadata": {},
   "source": [
    "# Non_Curated Data"
   ]
  },
  {
   "cell_type": "code",
   "execution_count": 5,
   "id": "f0b8aa0b-b017-426e-8ba4-fa330389750a",
   "metadata": {},
   "outputs": [],
   "source": [
    "def gather_data_for_all_data():\n",
    "    \"\"\"\n",
    "    Gather all data from the CHEMBL database without additional filtering.\n",
    "    \"\"\"\n",
    "    %config SqlMagic.feedback = False\n",
    "    %sql $connection_string\n",
    "\n",
    "    # Create temp_assays table\n",
    "    %sql drop table if exists temp_assays\n",
    "    %sql \\\n",
    "    select assay_id, assays.chembl_id assay_chembl_id, description, tid, targets.chembl_id target_chembl_id, \\\n",
    "              count(distinct(molregno)) cnt, pref_name, assays.doc_id doc_id, docs.year doc_date, variant_id \\\n",
    "            into temporary table temp_assays  \\\n",
    "            from activities  \\\n",
    "            join assays using(assay_id)  \\\n",
    "            join docs on (assays.doc_id = docs.doc_id)  \\\n",
    "            join target_dictionary as targets using (tid) \\\n",
    "            where pchembl_value is not null \\\n",
    "            and target_type = 'SINGLE PROTEIN' \\\n",
    "            group by (assay_id, assays.chembl_id, description, tid, targets.chembl_id, pref_name, \\\n",
    "                      assays.doc_id, docs.year, variant_id) \\\n",
    "            order by cnt desc;\n",
    "\n",
    "    # Create goldilocks table\n",
    "    %sql drop table if exists goldilocks\n",
    "    %sql select assay_id, tid, molregno, standard_type into temporary table goldilocks from activities join temp_assays using (assay_id) where pchembl_value is not null;\n",
    "\n",
    "    # Create tmp_counts table\n",
    "    %sql drop table if exists tmp_counts\n",
    "    %sql select assay_id, g.tid, count(distinct molregno) cnt, doc_id into temporary table tmp_counts from goldilocks g join assays using (assay_id) group by (assay_id, g.tid, doc_id) order by cnt desc;\n",
    "    \n",
    "    %sql drop table if exists goldilocks_counts\n",
    "    %sql select distinct on (tid, doc_id) assay_id, tid, doc_id, cnt into temporary table goldilocks_counts from tmp_counts;\n",
    "        \n",
    "    %sql drop table if exists goldilocks_target_counts\n",
    "    %sql select tid, count(distinct assay_id) target_assay_count, sum(cnt) target_compound_count into temporary table goldilocks_target_counts from goldilocks_counts gc group by (tid);\n",
    "\n",
    "    # Retrieve all data\n",
    "    raw_data = %sql \\\n",
    "      select assay_id, assay_chembl_id, temp_assays.tid, target_chembl_id, standard_type, pchembl_value, \\\n",
    "        molregno, cid.chembl_id compound_chembl_id, canonical_smiles \\\n",
    "        from activities \\\n",
    "        join temp_assays using (assay_id) \\\n",
    "        join goldilocks_target_counts using (tid) \\\n",
    "        join goldilocks_counts using (assay_id) \\\n",
    "        join assays using (assay_id) \\\n",
    "        join chembl_id_lookup cid on (entity_type='COMPOUND' and molregno=entity_id) \\\n",
    "        join compound_structures using (molregno) \\\n",
    "        where pchembl_value is not null;\n",
    "\n",
    "    # Process and save data\n",
    "    collected_data = defaultdict(list)\n",
    "    for (_, assay_chembl_id, _, target_chembl_id, _, pchembl_value, \n",
    "         _, compound_chembl_id, canonical_smiles) in raw_data:\n",
    "        collected_data[target_chembl_id].append((assay_chembl_id, compound_chembl_id, canonical_smiles, pchembl_value))\n",
    "\n",
    "    for target_chembl_id in collected_data.keys():\n",
    "        rows = collected_data[target_chembl_id]\n",
    "        cols = np.array(rows).transpose()\n",
    "        \n",
    "        columns = ['assay_chembl_id', 'compound_chembl_id', 'canonical_smiles', 'pchembl_value']\n",
    "        df = pd.DataFrame(dict(zip(columns, cols)))\n",
    "        fname = os.path.join(non_curated_data_directory, f'target_{target_chembl_id}.csv.gz')\n",
    "        df.to_csv(fname, index=False)"
   ]
  },
  {
   "cell_type": "markdown",
   "id": "7d1705ec-704e-4a9d-ae84-3e1778c6576b",
   "metadata": {},
   "source": [
    "# Run the Functions"
   ]
  },
  {
   "cell_type": "code",
   "execution_count": 6,
   "id": "a0d4c402-8f83-466b-8ca6-fd52f1578cca",
   "metadata": {
    "scrolled": true
   },
   "outputs": [
    {
     "name": "stdout",
     "output_type": "stream",
     "text": [
      " * postgresql://Avi@localhost/CHEMBL_34\n",
      " * postgresql://Avi@localhost/CHEMBL_34\n",
      " * postgresql://Avi@localhost/CHEMBL_34\n",
      " * postgresql://Avi@localhost/CHEMBL_34\n",
      " * postgresql://Avi@localhost/CHEMBL_34\n",
      " * postgresql://Avi@localhost/CHEMBL_34\n",
      " * postgresql://Avi@localhost/CHEMBL_34\n",
      " * postgresql://Avi@localhost/CHEMBL_34\n",
      " * postgresql://Avi@localhost/CHEMBL_34\n",
      " * postgresql://Avi@localhost/CHEMBL_34\n",
      " * postgresql://Avi@localhost/CHEMBL_34\n",
      " * postgresql://Avi@localhost/CHEMBL_34\n",
      " * postgresql://Avi@localhost/CHEMBL_34\n",
      " * postgresql://Avi@localhost/CHEMBL_34\n",
      " * postgresql://Avi@localhost/CHEMBL_34\n",
      " * postgresql://Avi@localhost/CHEMBL_34\n",
      " * postgresql://Avi@localhost/CHEMBL_34\n",
      " * postgresql://Avi@localhost/CHEMBL_34\n",
      " * postgresql://Avi@localhost/CHEMBL_34\n",
      " * postgresql://Avi@localhost/CHEMBL_34\n",
      " * postgresql://Avi@localhost/CHEMBL_34\n",
      " * postgresql://Avi@localhost/CHEMBL_34\n",
      " * postgresql://Avi@localhost/CHEMBL_34\n",
      " * postgresql://Avi@localhost/CHEMBL_34\n",
      " * postgresql://Avi@localhost/CHEMBL_34\n",
      " * postgresql://Avi@localhost/CHEMBL_34\n",
      " * postgresql://Avi@localhost/CHEMBL_34\n"
     ]
    }
   ],
   "source": [
    "gather_data_for_size()\n",
    "gather_data_for_all_data()"
   ]
  }
 ],
 "metadata": {
  "kernelspec": {
   "display_name": "Python 3 (ipykernel)",
   "language": "python",
   "name": "python3"
  },
  "language_info": {
   "codemirror_mode": {
    "name": "ipython",
    "version": 3
   },
   "file_extension": ".py",
   "mimetype": "text/x-python",
   "name": "python",
   "nbconvert_exporter": "python",
   "pygments_lexer": "ipython3",
   "version": "3.11.9"
  }
 },
 "nbformat": 4,
 "nbformat_minor": 5
}
