{
 "cells": [
  {
   "cell_type": "code",
   "execution_count": 45,
   "id": "eac1956f-16dd-438b-8d0a-d36870e89a9a",
   "metadata": {},
   "outputs": [],
   "source": [
    "import os\n",
    "import pandas as pd\n",
    "pd.options.mode.chained_assignment = None \n",
    "from rdkit import Chem\n",
    "from rdkit.Chem import AllChem, Descriptors, Lipinski\n",
    "from rdkit.Chem.SaltRemover import SaltRemover\n",
    "import numpy as np"
   ]
  },
  {
   "cell_type": "code",
   "execution_count": 46,
   "id": "f2cb5f0e-2e97-4e4b-b9d4-94c5e1f25f45",
   "metadata": {},
   "outputs": [],
   "source": [
    "raw_data_directory = '/Users/Avi/Dissertation/Data/Non_Curated/Raw'\n",
    "\n",
    "preprocessed_data_directory = '/Users/Avi/Dissertation/Data/Non_Curated/Preprocessed'\n",
    "os.makedirs(preprocessed_data_directory, exist_ok=True)"
   ]
  },
  {
   "cell_type": "markdown",
   "id": "20f4081b-d30a-4503-961b-293708ef3ffe",
   "metadata": {},
   "source": [
    "#### Selecting Same Targets as Curated Approach"
   ]
  },
  {
   "cell_type": "code",
   "execution_count": 47,
   "id": "e90bf9cc-7c4e-469f-baf4-f1b39385ad98",
   "metadata": {},
   "outputs": [],
   "source": [
    "target_CHEMBL4078 = pd.read_csv(os.path.join(raw_data_directory, 'target_CHEMBL4078.csv.gz'))\n",
    "target_CHEMBL279 = pd.read_csv(os.path.join(raw_data_directory, 'target_CHEMBL279.csv.gz'))\n",
    "target_CHEMBL5763 = pd.read_csv(os.path.join(raw_data_directory, 'target_CHEMBL5763.csv.gz'))\n",
    "target_CHEMBL240 = pd.read_csv(os.path.join(raw_data_directory, 'target_CHEMBL240.csv.gz'))\n",
    "target_CHEMBL4005 = pd.read_csv(os.path.join(raw_data_directory, 'target_CHEMBL4005.csv.gz'))"
   ]
  },
  {
   "cell_type": "code",
   "execution_count": 48,
   "id": "a48e7e15-dad8-4ab7-b500-a84e59cdf26e",
   "metadata": {},
   "outputs": [
    {
     "name": "stdout",
     "output_type": "stream",
     "text": [
      "Target CHEMBL4005: 5734 unique compounds\n",
      "Target CHEMBL279: 7373 unique compounds\n",
      "Target CHEMBL5763: 3907 unique compounds\n",
      "Target CHEMBL240: 8748 unique compounds\n",
      "Target CHEMBL4005: 5734 unique compounds\n"
     ]
    }
   ],
   "source": [
    "print(f\"Target CHEMBL4005: {target_CHEMBL4005['compound_chembl_id'].nunique()} unique compounds\")\n",
    "print(f\"Target CHEMBL279: {target_CHEMBL279['compound_chembl_id'].nunique()} unique compounds\")\n",
    "print(f\"Target CHEMBL5763: {target_CHEMBL5763['compound_chembl_id'].nunique()} unique compounds\")\n",
    "print(f\"Target CHEMBL240: {target_CHEMBL240['compound_chembl_id'].nunique()} unique compounds\")\n",
    "print(f\"Target CHEMBL4005: {target_CHEMBL4005['compound_chembl_id'].nunique()} unique compounds\")"
   ]
  },
  {
   "cell_type": "markdown",
   "id": "20e277d9-a0c8-40d5-9953-f24f43eac607",
   "metadata": {},
   "source": [
    "#### Dropping Duplicate Compound Entries"
   ]
  },
  {
   "cell_type": "code",
   "execution_count": 49,
   "id": "47baa934-0d0f-401a-929f-707a775f816a",
   "metadata": {},
   "outputs": [],
   "source": [
    "target_CHEMBL4078 = target_CHEMBL4078.drop_duplicates(subset='compound_chembl_id')\n",
    "target_CHEMBL279 = target_CHEMBL279.drop_duplicates(subset='compound_chembl_id')\n",
    "target_CHEMBL5763 = target_CHEMBL5763.drop_duplicates(subset='compound_chembl_id')\n",
    "target_CHEMBL240 = target_CHEMBL240.drop_duplicates(subset='compound_chembl_id')\n",
    "target_CHEMBL4005 = target_CHEMBL4005.drop_duplicates(subset='compound_chembl_id')"
   ]
  },
  {
   "cell_type": "markdown",
   "id": "8382a3b7-1e62-4f7f-9f4d-3406c8010e9b",
   "metadata": {},
   "source": [
    "#### Creating Activity Classes"
   ]
  },
  {
   "cell_type": "code",
   "execution_count": 50,
   "id": "ed2f9542-7c38-4683-9efe-4cbd41db8432",
   "metadata": {},
   "outputs": [],
   "source": [
    "threshold = 6.5\n",
    "\n",
    "target_CHEMBL4078['activity'] = target_CHEMBL4078['pchembl_value'].apply(lambda x: 1 if x >= threshold else 0)\n",
    "target_CHEMBL279['activity'] = target_CHEMBL279['pchembl_value'].apply(lambda x: 1 if x >= threshold else 0)\n",
    "target_CHEMBL5763['activity'] = target_CHEMBL5763['pchembl_value'].apply(lambda x: 1 if x >= threshold else 0)\n",
    "target_CHEMBL240['activity'] = target_CHEMBL240['pchembl_value'].apply(lambda x: 1 if x >= threshold else 0)\n",
    "target_CHEMBL4005['activity'] = target_CHEMBL4005['pchembl_value'].apply(lambda x: 1 if x >= threshold else 0)"
   ]
  },
  {
   "cell_type": "markdown",
   "id": "874530d3-fab3-442a-adaa-14f159595a57",
   "metadata": {},
   "source": [
    "#### Cleaning Canonical SMILES"
   ]
  },
  {
   "cell_type": "code",
   "execution_count": 51,
   "id": "f77b3e53-8d93-4dc5-95cb-ad3d1892c2ca",
   "metadata": {},
   "outputs": [],
   "source": [
    "def clean_smiles(smiles):\n",
    "    mol = Chem.MolFromSmiles(smiles)\n",
    "    if mol is not None:\n",
    "        remover = SaltRemover()\n",
    "        mol = remover.StripMol(mol)\n",
    "        if mol is not None:\n",
    "            clean_smiles = Chem.MolToSmiles(mol, canonical=True)\n",
    "            return clean_smiles\n",
    "    return None"
   ]
  },
  {
   "cell_type": "code",
   "execution_count": 52,
   "id": "06f31881-944e-408a-a8e2-9c509c009526",
   "metadata": {},
   "outputs": [],
   "source": [
    "target_CHEMBL4078['canonical_smiles'] = target_CHEMBL4078['canonical_smiles'].apply(clean_smiles)\n",
    "target_CHEMBL279['canonical_smiles'] = target_CHEMBL279['canonical_smiles'].apply(clean_smiles)\n",
    "target_CHEMBL5763['canonical_smiles'] = target_CHEMBL5763['canonical_smiles'].apply(clean_smiles)\n",
    "target_CHEMBL240['canonical_smiles'] = target_CHEMBL240['canonical_smiles'].apply(clean_smiles)\n",
    "target_CHEMBL4005['canonical_smiles'] = target_CHEMBL4005['canonical_smiles'].apply(clean_smiles)"
   ]
  },
  {
   "cell_type": "markdown",
   "id": "e78b2316-125e-4ae2-9822-d426c17fe895",
   "metadata": {},
   "source": [
    "#### Calculating Lipinski's Descriptors"
   ]
  },
  {
   "cell_type": "code",
   "execution_count": 53,
   "id": "0fc89268-c2ed-43f5-a35b-23356cf6ae84",
   "metadata": {},
   "outputs": [],
   "source": [
    "def lipinski(df, smiles_column='canonical_smiles', verbose=False):\n",
    "    moldata = []\n",
    "    for elem in df[smiles_column]:\n",
    "        mol = Chem.MolFromSmiles(elem)\n",
    "        moldata.append(mol)\n",
    "       \n",
    "    baseData = []\n",
    "    for mol in moldata:\n",
    "        desc_MolWt = Descriptors.MolWt(mol)\n",
    "        desc_MolLogP = Descriptors.MolLogP(mol)\n",
    "        desc_NumHDonors = Lipinski.NumHDonors(mol)\n",
    "        desc_NumHAcceptors = Lipinski.NumHAcceptors(mol)\n",
    "        row = [desc_MolWt, desc_MolLogP, desc_NumHDonors, desc_NumHAcceptors]\n",
    "        baseData.append(row)\n",
    "    \n",
    "    columnNames = [\"MW\", \"LogP\", \"NumHDonors\", \"NumHAcceptors\"]\n",
    "    descriptors = pd.DataFrame(data=baseData, columns=columnNames, index=df.index)\n",
    "    \n",
    "    # Append the new columns to the original DataFrame\n",
    "    df = pd.concat([df, descriptors], axis=1)\n",
    "    \n",
    "    return df"
   ]
  },
  {
   "cell_type": "code",
   "execution_count": 54,
   "id": "0ba7e113-3d6d-43b0-bfa8-c10e1fcde692",
   "metadata": {},
   "outputs": [],
   "source": [
    "target_CHEMBL4078_combined = lipinski(target_CHEMBL4078)\n",
    "target_CHEMBL279_combined = lipinski(target_CHEMBL279)\n",
    "target_CHEMBL5763_combined = lipinski(target_CHEMBL5763)\n",
    "target_CHEMBL240_combined = lipinski(target_CHEMBL240)\n",
    "target_CHEMBL4005_combined = lipinski(target_CHEMBL4005)"
   ]
  },
  {
   "cell_type": "markdown",
   "id": "fa4e4c1d-3263-4fc1-9d75-4a0163eba64d",
   "metadata": {},
   "source": [
    "#### Filtering Data According to Lipinski's Rule of Five"
   ]
  },
  {
   "cell_type": "code",
   "execution_count": 55,
   "id": "0bbf26d7-4f1f-4576-882f-bd575333601e",
   "metadata": {},
   "outputs": [],
   "source": [
    "def apply_lipinski(df):\n",
    "    df['MW_violation'] = df['MW'] > 500\n",
    "    df['LogP_violation'] = df['LogP'] > 5\n",
    "    df['NumHDonors_violation'] = df['NumHDonors'] > 5\n",
    "    df['NumHAcceptors_violation'] = df['NumHAcceptors'] > 10\n",
    "\n",
    "    df['NumViolations'] = (df['MW_violation'].astype(int) +\n",
    "                           df['LogP_violation'].astype(int) +\n",
    "                           df['NumHDonors_violation'].astype(int) +\n",
    "                           df['NumHAcceptors_violation'].astype(int))\n",
    "\n",
    "    df_preprocessed = df[df['NumViolations'] < 2]\n",
    "    df_preprocessed = df_preprocessed[['assay_chembl_id', 'compound_chembl_id', 'pchembl_value', 'activity', 'canonical_smiles']]\n",
    "    return df_preprocessed\n",
    "\n",
    "target_CHEMBL4078_preprocessed = apply_lipinski(target_CHEMBL4078_combined)\n",
    "target_CHEMBL279_preprocessed = apply_lipinski(target_CHEMBL279_combined)\n",
    "target_CHEMBL5763_preprocessed = apply_lipinski(target_CHEMBL5763_combined)\n",
    "target_CHEMBL240_preprocessed = apply_lipinski(target_CHEMBL240_combined)\n",
    "target_CHEMBL4005_preprocessed = apply_lipinski(target_CHEMBL4005_combined)"
   ]
  },
  {
   "cell_type": "code",
   "execution_count": 56,
   "id": "b5d4938a-bf42-4d45-be0a-efd270ce9c91",
   "metadata": {},
   "outputs": [
    {
     "name": "stdout",
     "output_type": "stream",
     "text": [
      "Target CHEMBL4078: 4042 unique compounds after applying Lipinski's Rule of Five\n",
      "Target CHEMBL279: 5990 unique compounds after applying Lipinski's Rule of Five\n",
      "Target CHEMBL5763: 3173 unique compounds after applying Lipinski's Rule of Five\n",
      "Target CHEMBL240: 7826 unique compounds after applying Lipinski's Rule of Five\n",
      "Target CHEMBL4005: 5322 unique compounds after applying Lipinski's Rule of Five\n"
     ]
    }
   ],
   "source": [
    "print(f\"Target CHEMBL4078: {target_CHEMBL4078_preprocessed['compound_chembl_id'].nunique()} unique compounds after applying Lipinski's Rule of Five\")\n",
    "print(f\"Target CHEMBL279: {target_CHEMBL279_preprocessed['compound_chembl_id'].nunique()} unique compounds after applying Lipinski's Rule of Five\")\n",
    "print(f\"Target CHEMBL5763: {target_CHEMBL5763_preprocessed['compound_chembl_id'].nunique()} unique compounds after applying Lipinski's Rule of Five\")\n",
    "print(f\"Target CHEMBL240: {target_CHEMBL240_preprocessed['compound_chembl_id'].nunique()} unique compounds after applying Lipinski's Rule of Five\")\n",
    "print(f\"Target CHEMBL4005: {target_CHEMBL4005_preprocessed['compound_chembl_id'].nunique()} unique compounds after applying Lipinski's Rule of Five\")"
   ]
  },
  {
   "cell_type": "code",
   "execution_count": 57,
   "id": "c02f7726-882f-4793-b008-b4b4b6603907",
   "metadata": {},
   "outputs": [],
   "source": [
    "target_CHEMBL4078_preprocessed.to_csv(os.path.join(preprocessed_data_directory, 'Target_CHEMBL4078_Non_Curated_Preprocessed.csv'))\n",
    "target_CHEMBL279_preprocessed.to_csv(os.path.join(preprocessed_data_directory, 'Target_CHEMBL279_Non_Curated_Preprocessed.csv'))\n",
    "target_CHEMBL5763_preprocessed.to_csv(os.path.join(preprocessed_data_directory, 'Target_CHEMBL5763_Non_Curated_Preprocessed.csv'))\n",
    "target_CHEMBL240_preprocessed.to_csv(os.path.join(preprocessed_data_directory, 'Target_CHEMBL240_Non_Curated_Preprocessed.csv'))\n",
    "target_CHEMBL4005_preprocessed.to_csv(os.path.join(preprocessed_data_directory, 'Target_CHEMBL4005_Non_Curated_Preprocessed.csv'))"
   ]
  }
 ],
 "metadata": {
  "kernelspec": {
   "display_name": "Python 3 (ipykernel)",
   "language": "python",
   "name": "python3"
  },
  "language_info": {
   "codemirror_mode": {
    "name": "ipython",
    "version": 3
   },
   "file_extension": ".py",
   "mimetype": "text/x-python",
   "name": "python",
   "nbconvert_exporter": "python",
   "pygments_lexer": "ipython3",
   "version": "3.11.9"
  }
 },
 "nbformat": 4,
 "nbformat_minor": 5
}
