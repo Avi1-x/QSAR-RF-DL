{
 "cells": [
  {
   "cell_type": "code",
   "execution_count": 1,
   "id": "eac1956f-16dd-438b-8d0a-d36870e89a9a",
   "metadata": {},
   "outputs": [],
   "source": [
    "import os\n",
    "import pandas as pd\n",
    "import numpy as np\n",
    "import seaborn as sns\n",
    "import matplotlib.pyplot as plt\n",
    "from rdkit import Chem\n",
    "from rdkit.Chem import AllChem, Descriptors, Lipinski\n",
    "from rdkit.Chem.SaltRemover import SaltRemover\n",
    "from rdkit.Chem.rdmolops import RemoveStereochemistry\n",
    "\n",
    "pd.options.mode.chained_assignment = None"
   ]
  },
  {
   "cell_type": "markdown",
   "id": "d33c3499-3d67-4eaf-ab53-7c1ced5b167f",
   "metadata": {},
   "source": [
    "# Directory Setup"
   ]
  },
  {
   "cell_type": "code",
   "execution_count": 2,
   "id": "f2cb5f0e-2e97-4e4b-b9d4-94c5e1f25f45",
   "metadata": {},
   "outputs": [],
   "source": [
    "raw_data_directory = '/Users/Avi/Dissertation/Data/Curated/Raw'\n",
    "preprocessed_data_directory = '/Users/Avi/Dissertation/Data/Curated/Preprocessed'\n",
    "os.makedirs(preprocessed_data_directory, exist_ok=True)\n",
    "base_plot_directory = '/Users/Avi/Dissertation/Results/Exploratory_Analysis/Preprocessed_Data/Curated'\n",
    "os.makedirs(base_plot_directory, exist_ok=True)"
   ]
  },
  {
   "cell_type": "markdown",
   "id": "fe174cba-e424-4acc-afef-462e64794d1f",
   "metadata": {},
   "source": [
    "# Defining Functions"
   ]
  },
  {
   "cell_type": "code",
   "execution_count": 3,
   "id": "61ece2e1-4d0b-4daf-8abe-620283465236",
   "metadata": {},
   "outputs": [],
   "source": [
    "def get_top_files(directory, n=5):\n",
    "    \"\"\"Identify the top n files with the most compounds.\"\"\"\n",
    "    file_compound_counts = []\n",
    "    for filename in os.listdir(directory):\n",
    "        if filename.endswith('.csv.gz'):\n",
    "            filepath = os.path.join(directory, filename)\n",
    "            df = pd.read_csv(filepath)\n",
    "            num_compounds = df['compound_chembl_id'].nunique()\n",
    "            file_compound_counts.append((filename, num_compounds))\n",
    "    \n",
    "    file_compound_counts.sort(key=lambda x: x[1], reverse=True)\n",
    "    return file_compound_counts[:n]\n",
    "\n",
    "def clean_smiles(smiles):\n",
    "    mol = Chem.MolFromSmiles(smiles)\n",
    "    if mol is not None:\n",
    "        remover = SaltRemover()\n",
    "        mol = remover.StripMol(mol)\n",
    "        if mol is not None:\n",
    "            RemoveStereochemistry(mol)\n",
    "            clean_smiles = Chem.MolToSmiles(mol, canonical=True)\n",
    "            return clean_smiles\n",
    "    return None\n",
    "\n",
    "def lipinski(df, smiles_column='canonical_smiles'):\n",
    "    moldata = []\n",
    "    for elem in df[smiles_column]:\n",
    "        mol = Chem.MolFromSmiles(elem)\n",
    "        moldata.append(mol)\n",
    "       \n",
    "    baseData = []\n",
    "    for mol in moldata:\n",
    "        desc_MolWt = Descriptors.MolWt(mol)\n",
    "        desc_MolLogP = Descriptors.MolLogP(mol)\n",
    "        desc_NumHDonors = Lipinski.NumHDonors(mol)\n",
    "        desc_NumHAcceptors = Lipinski.NumHAcceptors(mol)\n",
    "        row = [desc_MolWt, desc_MolLogP, desc_NumHDonors, desc_NumHAcceptors]\n",
    "        baseData.append(row)\n",
    "    \n",
    "    columnNames = [\"MW\", \"LogP\", \"NumHDonors\", \"NumHAcceptors\"]\n",
    "    descriptors = pd.DataFrame(data=baseData, columns=columnNames, index=df.index)\n",
    "    \n",
    "    return pd.concat([df, descriptors], axis=1)\n",
    "\n",
    "def apply_lipinski(df):\n",
    "    df['MW_violation'] = df['MW'] > 500\n",
    "    df['LogP_violation'] = df['LogP'] > 5\n",
    "    df['NumHDonors_violation'] = df['NumHDonors'] > 5\n",
    "    df['NumHAcceptors_violation'] = df['NumHAcceptors'] > 10\n",
    "\n",
    "    df['NumViolations'] = (df['MW_violation'].astype(int) +\n",
    "                           df['LogP_violation'].astype(int) +\n",
    "                           df['NumHDonors_violation'].astype(int) +\n",
    "                           df['NumHAcceptors_violation'].astype(int))\n",
    "\n",
    "    df_preprocessed = df[df['NumViolations'] < 2]\n",
    "    return df_preprocessed[['assay_chembl_id', 'compound_chembl_id', 'pchembl_value', 'activity', 'canonical_smiles']]\n",
    "\n",
    "def process_target(file_path, threshold=6.0):\n",
    "    \"\"\"Process a single target file.\"\"\"\n",
    "    df = pd.read_csv(file_path)\n",
    "    df = df.drop_duplicates(subset='compound_chembl_id')\n",
    "    df['activity'] = df['pchembl_value'].apply(lambda x: 1 if x >= threshold else 0)\n",
    "    df['canonical_smiles'] = df['canonical_smiles'].apply(clean_smiles)\n",
    "    df = df.dropna(subset=['canonical_smiles'])\n",
    "    df = df.drop_duplicates(subset='canonical_smiles')\n",
    "    df = lipinski(df)\n",
    "    df = apply_lipinski(df)\n",
    "    return df"
   ]
  },
  {
   "cell_type": "markdown",
   "id": "05cb5f09-8426-4df0-9e85-0234f68e5fa5",
   "metadata": {},
   "source": [
    "# Main processing"
   ]
  },
  {
   "cell_type": "code",
   "execution_count": 4,
   "id": "63986c18-6481-4d9a-a930-9001950ab889",
   "metadata": {},
   "outputs": [
    {
     "name": "stdout",
     "output_type": "stream",
     "text": [
      "Identifying Targets With Most Compounds\n",
      "target_CHEMBL4078-3.csv.gz: 4558 compounds\n",
      "target_CHEMBL279-13.csv.gz: 3922 compounds\n",
      "target_CHEMBL5763-3.csv.gz: 3355 compounds\n",
      "target_CHEMBL240-15.csv.gz: 3139 compounds\n",
      "target_CHEMBL4005-20.csv.gz: 3005 compounds\n",
      "\n",
      "Processing Data\n",
      "\n",
      "Target CHEMBL4078:\n",
      "Initial count: 4558 compounds\n",
      "Final count: 3717 compounds after preprocessing\n",
      "\n",
      "Target CHEMBL279:\n",
      "Initial count: 3922 compounds\n",
      "Final count: 3268 compounds after preprocessing\n",
      "\n",
      "Target CHEMBL5763:\n",
      "Initial count: 3355 compounds\n",
      "Final count: 2674 compounds after preprocessing\n",
      "\n",
      "Target CHEMBL240:\n",
      "Initial count: 3139 compounds\n",
      "Final count: 2715 compounds after preprocessing\n",
      "\n",
      "Target CHEMBL4005:\n",
      "Initial count: 3005 compounds\n",
      "Final count: 2734 compounds after preprocessing\n",
      "\n",
      "Preprocessing complete.\n"
     ]
    }
   ],
   "source": [
    "print(\"Identifying Targets With Most Compounds\")\n",
    "top_five_files = get_top_files(raw_data_directory)\n",
    "for file, count in top_five_files:\n",
    "    print(f\"{file}: {count} compounds\")\n",
    "\n",
    "print(\"\\nProcessing Data\")\n",
    "target_data = {}\n",
    "for filename, _ in top_five_files:\n",
    "    target_id = filename.split('-')[0].split('_')[1]\n",
    "    file_path = os.path.join(raw_data_directory, filename)\n",
    "    target_data[target_id] = process_target(file_path)\n",
    "    \n",
    "    initial_count = pd.read_csv(file_path)['compound_chembl_id'].nunique()\n",
    "    final_count = target_data[target_id]['compound_chembl_id'].nunique()\n",
    "    \n",
    "    print(f\"\\nTarget {target_id}:\")\n",
    "    print(f\"Initial count: {initial_count} compounds\")\n",
    "    print(f\"Final count: {final_count} compounds after preprocessing\")\n",
    "    \n",
    "    output_file = f'Target_{target_id}_Curated_Preprocessed.csv'\n",
    "    target_data[target_id].to_csv(os.path.join(preprocessed_data_directory, output_file), index=False)\n",
    "\n",
    "print(\"\\nPreprocessing complete.\")"
   ]
  },
  {
   "cell_type": "markdown",
   "id": "0e213c5a-aa48-4365-92d3-ecd3607ec884",
   "metadata": {},
   "source": [
    "# Exploratory Analysis of Target Variables After Preprocessing"
   ]
  },
  {
   "cell_type": "code",
   "execution_count": 5,
   "id": "e36ccc5b-628c-4fbf-bca7-b5ee13757f90",
   "metadata": {
    "scrolled": true
   },
   "outputs": [
    {
     "name": "stdout",
     "output_type": "stream",
     "text": [
      "\n",
      "Exploratory Data Analysis\n",
      "\n",
      "Exploratory Data Analysis for Target CHEMBL4078\n",
      "\n",
      "Exploratory Data Analysis for Target CHEMBL279\n",
      "\n",
      "Exploratory Data Analysis for Target CHEMBL5763\n",
      "\n",
      "Exploratory Data Analysis for Target CHEMBL240\n",
      "\n",
      "Exploratory Data Analysis for Target CHEMBL4005\n",
      "Exploratory Data Analysis complete.\n"
     ]
    },
    {
     "data": {
      "text/plain": [
       "<Figure size 640x480 with 0 Axes>"
      ]
     },
     "metadata": {},
     "output_type": "display_data"
    }
   ],
   "source": [
    "print(\"\\nExploratory Data Analysis\")\n",
    "\n",
    "for target_id, df in target_data.items():\n",
    "    print(f\"\\nExploratory Data Analysis for Target {target_id}\")\n",
    "\n",
    "    target_plot_directory = base_plot_directory\n",
    "    os.makedirs(target_plot_directory, exist_ok=True)\n",
    "\n",
    "    sns.countplot(x='activity', data=df)\n",
    "    plt.title(f'Activity Class Distribution for Target {target_id} (Curated)')\n",
    "    plt.xlabel('Activity Class (0 = Inactive, 1 = Active)')\n",
    "    plt.ylabel('Count')\n",
    "    plt.savefig(os.path.join(target_plot_directory, f'{target_id}_Curated_Activity_Class_Distribution.png'))\n",
    "    plt.clf()\n",
    "\n",
    "    sns.boxplot(x='pchembl_value', data=df)\n",
    "    plt.title(f'Box Plot of pChEMBL Values for Target {target_id}  (Curated)')\n",
    "    plt.xlabel('pChEMBL Value')\n",
    "    plt.savefig(os.path.join(target_plot_directory, f'{target_id}_Curated_pChEMBL_Box_Plot.png'))\n",
    "    plt.clf()\n",
    "\n",
    "    sns.histplot(df['pchembl_value'], kde=True)\n",
    "    plt.title(f'Distribution of pChEMBL Values for Target {target_id}  (Curated)')\n",
    "    plt.xlabel('pChEMBL Value')\n",
    "    plt.ylabel('Frequency')\n",
    "    plt.savefig(os.path.join(target_plot_directory, f'{target_id}_Curated_pChEMBL_Distribution.png'))\n",
    "    plt.clf()\n",
    "\n",
    "print(\"Exploratory Data Analysis complete.\")"
   ]
  }
 ],
 "metadata": {
  "kernelspec": {
   "display_name": "Python 3 (ipykernel)",
   "language": "python",
   "name": "python3"
  },
  "language_info": {
   "codemirror_mode": {
    "name": "ipython",
    "version": 3
   },
   "file_extension": ".py",
   "mimetype": "text/x-python",
   "name": "python",
   "nbconvert_exporter": "python",
   "pygments_lexer": "ipython3",
   "version": "3.11.9"
  }
 },
 "nbformat": 4,
 "nbformat_minor": 5
}
