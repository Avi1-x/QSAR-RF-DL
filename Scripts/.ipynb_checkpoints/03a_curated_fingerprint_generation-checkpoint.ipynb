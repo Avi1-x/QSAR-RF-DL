{
 "cells": [
  {
   "cell_type": "code",
   "execution_count": 1,
   "id": "6202dcf3-64ce-4309-b05d-e39b366e80d2",
   "metadata": {},
   "outputs": [],
   "source": [
    "import os\n",
    "import warnings\n",
    "from rdkit import Chem, DataStructs, RDLogger\n",
    "from rdkit.Chem import AllChem, MACCSkeys, rdFingerprintGenerator\n",
    "import pandas as pd"
   ]
  },
  {
   "cell_type": "markdown",
   "id": "0bd84990-ab24-42f9-868d-44f1496bcbf1",
   "metadata": {},
   "source": [
    "# Suppressing Warnings"
   ]
  },
  {
   "cell_type": "code",
   "execution_count": 2,
   "id": "6681e838-6c0e-4afc-83f7-c82e1dc21141",
   "metadata": {},
   "outputs": [],
   "source": [
    "lg = RDLogger.logger()\n",
    "lg.setLevel(RDLogger.CRITICAL)"
   ]
  },
  {
   "cell_type": "markdown",
   "id": "cb1f9608-d9e5-4778-b233-57be18bb59f1",
   "metadata": {},
   "source": [
    "# Directory Setup"
   ]
  },
  {
   "cell_type": "code",
   "execution_count": 3,
   "id": "2a9a1bbf-4175-4b25-8002-6df3ccc8fdfc",
   "metadata": {},
   "outputs": [],
   "source": [
    "preprocessed_data_directory = '/Users/Avi/Dissertation/Data/Curated/Preprocessed'\n",
    "fingerprinted_data_directory = '/Users/Avi/Dissertation/Data/Curated/Fingerprinted'\n",
    "os.makedirs(fingerprinted_data_directory, exist_ok=True)"
   ]
  },
  {
   "cell_type": "markdown",
   "id": "a9ff0f4a-4220-45f2-bd9d-a33a078dea8a",
   "metadata": {},
   "source": [
    "# Defining Functions"
   ]
  },
  {
   "cell_type": "code",
   "execution_count": 4,
   "id": "949c84df-c6f9-42a2-8046-0837b142896e",
   "metadata": {},
   "outputs": [],
   "source": [
    "def generate_ecfp(mol):\n",
    "    return DataStructs.BitVectToText(AllChem.GetMorganFingerprintAsBitVect(mol, 2, nBits=1024))\n",
    "\n",
    "def generate_maccs_keys(mol):\n",
    "    return DataStructs.BitVectToText(MACCSkeys.GenMACCSKeys(mol))\n",
    "\n",
    "def generate_atom_pair(mol, min_distance, max_distance):\n",
    "    generator = rdFingerprintGenerator.GetAtomPairGenerator(minDistance=min_distance, maxDistance=max_distance, fpSize=1024)\n",
    "    return DataStructs.BitVectToText(generator.GetFingerprint(mol))\n",
    "\n",
    "def combine_ap2_ap3(mol):\n",
    "    ap2 = generate_atom_pair(mol, 2, 2)\n",
    "    ap3 = generate_atom_pair(mol, 3, 3)\n",
    "    return ap2 + ap3\n",
    "\n",
    "def process_molecule(smiles):\n",
    "    mol = Chem.MolFromSmiles(smiles)\n",
    "    if mol is None:\n",
    "        return [None] * 5\n",
    "    return [\n",
    "        generate_ecfp(mol),\n",
    "        generate_maccs_keys(mol),\n",
    "        generate_atom_pair(mol, 2, 2),\n",
    "        generate_atom_pair(mol, 3, 3),\n",
    "        combine_ap2_ap3(mol)\n",
    "    ]"
   ]
  },
  {
   "cell_type": "markdown",
   "id": "f2379190-5d16-4376-be09-4bfdacfe0dec",
   "metadata": {},
   "source": [
    "# Reading Preprocessed Data"
   ]
  },
  {
   "cell_type": "code",
   "execution_count": 5,
   "id": "d1be7f3a-230a-44e5-85a7-ecd749de17da",
   "metadata": {},
   "outputs": [],
   "source": [
    "target_files = [\n",
    "    'Target_CHEMBL4078_Curated_Preprocessed.csv',\n",
    "    'Target_CHEMBL279_Curated_Preprocessed.csv',\n",
    "    'Target_CHEMBL5763_Curated_Preprocessed.csv',\n",
    "    'Target_CHEMBL240_Curated_Preprocessed.csv',\n",
    "    'Target_CHEMBL4005_Curated_Preprocessed.csv'\n",
    "]"
   ]
  },
  {
   "cell_type": "markdown",
   "id": "8258d0dc-337d-4911-833b-89039d7b9c5a",
   "metadata": {},
   "source": [
    "# Generating and Saving Fingerprinted Data"
   ]
  },
  {
   "cell_type": "code",
   "execution_count": 6,
   "id": "4cf00f6e-8880-42b4-98ce-8dfda84aeaa2",
   "metadata": {},
   "outputs": [
    {
     "name": "stdout",
     "output_type": "stream",
     "text": [
      "Saved fingerprinted data for Target_CHEMBL4078_Curated_Preprocessed.csv\n",
      "Saved fingerprinted data for Target_CHEMBL279_Curated_Preprocessed.csv\n",
      "Saved fingerprinted data for Target_CHEMBL5763_Curated_Preprocessed.csv\n",
      "Saved fingerprinted data for Target_CHEMBL240_Curated_Preprocessed.csv\n",
      "Saved fingerprinted data for Target_CHEMBL4005_Curated_Preprocessed.csv\n",
      "Fingerprinting complete. Files saved in: /Users/Avi/Dissertation/Data/Curated/Fingerprinted\n"
     ]
    }
   ],
   "source": [
    "for file in target_files:\n",
    "    target = pd.read_csv(os.path.join(preprocessed_data_directory, file))\n",
    "    \n",
    "    # Processing molecules sequentially\n",
    "    results = [process_molecule(smi) for smi in target['canonical_smiles']]\n",
    "    \n",
    "    # Assigning results to dataframe\n",
    "    target['ECFP'], target['MACCS Keys'], target['AP2'], target['AP3'], target['AP2+AP3'] = zip(*results)\n",
    "    \n",
    "    # Saving fingerprinted data\n",
    "    output_file = file.replace('Preprocessed', 'Fingerprinted')\n",
    "    target.to_csv(os.path.join(fingerprinted_data_directory, output_file), index=False)\n",
    "    print(f\"Saved fingerprinted data for {file}\")\n",
    "\n",
    "print(\"Fingerprinting complete. Files saved in:\", fingerprinted_data_directory)"
   ]
  }
 ],
 "metadata": {
  "kernelspec": {
   "display_name": "Python 3 (ipykernel)",
   "language": "python",
   "name": "python3"
  },
  "language_info": {
   "codemirror_mode": {
    "name": "ipython",
    "version": 3
   },
   "file_extension": ".py",
   "mimetype": "text/x-python",
   "name": "python",
   "nbconvert_exporter": "python",
   "pygments_lexer": "ipython3",
   "version": "3.11.9"
  }
 },
 "nbformat": 4,
 "nbformat_minor": 5
}
