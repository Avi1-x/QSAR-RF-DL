{
 "cells": [
  {
   "cell_type": "code",
   "execution_count": 1,
   "id": "dc37d429-5f70-4a86-b1d0-6699f27be634",
   "metadata": {},
   "outputs": [],
   "source": [
    "import os\n",
    "import numpy as np\n",
    "import pandas as pd\n",
    "from rdkit import Chem\n",
    "from rdkit.Chem.Scaffolds import MurckoScaffold\n",
    "from collections import defaultdict\n",
    "from sklearn.model_selection import train_test_split"
   ]
  },
  {
   "cell_type": "markdown",
   "id": "533c7a28-3394-4bbc-8110-c6c14102fbc7",
   "metadata": {},
   "source": [
    "# Directory Setup"
   ]
  },
  {
   "cell_type": "code",
   "execution_count": 2,
   "id": "81e4aa85-8d16-41b3-8f02-4ad9b7c45ae1",
   "metadata": {},
   "outputs": [],
   "source": [
    "base_dir = '/Users/Avi/Dissertation/Data'\n",
    "fingerprinted_data_directory = os.path.join(base_dir, 'Non_Curated/Fingerprinted')\n",
    "scaffold_test_data_directory = os.path.join(base_dir, 'Curated/Test_Data/Scaffold_Split')\n",
    "random_test_data_directory = os.path.join(base_dir, 'Curated/Test_Data/Random_Split')\n",
    "train_data_directory = os.path.join(base_dir, 'Non_Curated/Train_Data')\n",
    "os.makedirs(train_data_directory, exist_ok=True)"
   ]
  },
  {
   "cell_type": "markdown",
   "id": "0b1d0439-40b8-4b82-8229-aaab0efac641",
   "metadata": {},
   "source": [
    "# Assigning Targets"
   ]
  },
  {
   "cell_type": "code",
   "execution_count": 3,
   "id": "afc742d0-03ba-4eb6-a344-47010b114ab1",
   "metadata": {},
   "outputs": [],
   "source": [
    "targets = ['CHEMBL4078', 'CHEMBL279', 'CHEMBL5763', 'CHEMBL240', 'CHEMBL4005']"
   ]
  },
  {
   "cell_type": "markdown",
   "id": "30cece29-3e04-4205-b484-8b5af91c172a",
   "metadata": {},
   "source": [
    "# Defining Functions"
   ]
  },
  {
   "cell_type": "code",
   "execution_count": 4,
   "id": "458b42d6-2af6-4c2e-8b1f-bbbcb6c14fd1",
   "metadata": {},
   "outputs": [],
   "source": [
    "def get_scaffold(smiles):\n",
    "    mol = Chem.MolFromSmiles(smiles)\n",
    "    scaffold = MurckoScaffold.GetScaffoldForMol(mol)\n",
    "    return Chem.MolToSmiles(scaffold)\n",
    "\n",
    "def process_target(target):\n",
    "    non_curated_df = pd.read_csv(os.path.join(fingerprinted_data_directory, f'Target_{target}_Non_Curated_Fingerprinted.csv'))\n",
    "    scaffold_test_df = pd.read_csv(os.path.join(scaffold_test_data_directory, f'{target}_Test_Scaffold.csv'))\n",
    "    random_test_df = pd.read_csv(os.path.join(random_test_data_directory, f'{target}_Test_Random.csv'))\n",
    "    \n",
    "    combined_test_df = pd.concat([scaffold_test_df, random_test_df]).drop_duplicates(subset='canonical_smiles')\n",
    "    \n",
    "    mask = ~non_curated_df['canonical_smiles'].isin(combined_test_df['canonical_smiles'])\n",
    "    non_curated_train_df = non_curated_df.loc[mask].copy()  # Create an explicit copy\n",
    "    \n",
    "    scaffold_test_scaffolds = set(scaffold_test_df['canonical_smiles'].apply(get_scaffold))\n",
    "    \n",
    "    non_curated_train_df['scaffold'] = non_curated_train_df['canonical_smiles'].apply(get_scaffold)\n",
    "    non_curated_train_df = non_curated_train_df[~non_curated_train_df['scaffold'].isin(scaffold_test_scaffolds)]\n",
    "    non_curated_train_df = non_curated_train_df.drop('scaffold', axis=1)\n",
    "    non_curated_train_df.to_csv(os.path.join(train_data_directory, f'{target}_Train.csv'), index=False)\n",
    "    \n",
    "    return len(non_curated_train_df)"
   ]
  },
  {
   "cell_type": "markdown",
   "id": "c605fe1d-dbee-472b-b720-cb8e1bc8b2eb",
   "metadata": {},
   "source": [
    "# Main Execution"
   ]
  },
  {
   "cell_type": "code",
   "execution_count": 5,
   "id": "95ed8e92-5c90-435d-8f62-31bfe07f09f5",
   "metadata": {},
   "outputs": [
    {
     "name": "stdout",
     "output_type": "stream",
     "text": [
      "Non-curated training set for CHEMBL4078 prepared. Training set size: 2512\n",
      "Non-curated training set for CHEMBL279 prepared. Training set size: 4717\n",
      "Non-curated training set for CHEMBL5763 prepared. Training set size: 2104\n",
      "Non-curated training set for CHEMBL240 prepared. Training set size: 6386\n",
      "Non-curated training set for CHEMBL4005 prepared. Training set size: 4080\n"
     ]
    }
   ],
   "source": [
    "for target in targets:\n",
    "    train_size = process_target(target)\n",
    "    print(f\"Non-curated training set for {target} prepared. Training set size: {train_size}\")"
   ]
  }
 ],
 "metadata": {
  "kernelspec": {
   "display_name": "Python 3 (ipykernel)",
   "language": "python",
   "name": "python3"
  },
  "language_info": {
   "codemirror_mode": {
    "name": "ipython",
    "version": 3
   },
   "file_extension": ".py",
   "mimetype": "text/x-python",
   "name": "python",
   "nbconvert_exporter": "python",
   "pygments_lexer": "ipython3",
   "version": "3.11.9"
  }
 },
 "nbformat": 4,
 "nbformat_minor": 5
}
