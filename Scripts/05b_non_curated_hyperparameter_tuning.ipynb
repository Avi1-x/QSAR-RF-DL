{
 "cells": [
  {
   "cell_type": "code",
   "execution_count": 1,
   "id": "aa28ca72-2735-4ba4-abee-3d7d8f665072",
   "metadata": {},
   "outputs": [],
   "source": [
    "import os\n",
    "import json\n",
    "import numpy as np\n",
    "import pandas as pd\n",
    "from rdkit import Chem, DataStructs\n",
    "from sklearn.ensemble import RandomForestClassifier, RandomForestRegressor\n",
    "from sklearn.model_selection import RandomizedSearchCV, StratifiedKFold, KFold"
   ]
  },
  {
   "cell_type": "markdown",
   "id": "cefde8ce-b7d0-41c8-b97b-7d84a6572fea",
   "metadata": {},
   "source": [
    "# Directory setup"
   ]
  },
  {
   "cell_type": "code",
   "execution_count": 2,
   "id": "cf748d6b-f444-4c70-94f4-0b2f48ca7798",
   "metadata": {},
   "outputs": [],
   "source": [
    "base_dir = '/Users/Avi/Dissertation/'\n",
    "train_data_directory = os.path.join(base_dir, 'Data/Non_Curated/Train_Data')\n",
    "\n",
    "hyperparams_dir = {\n",
    "    \"non_curated_rf_classification_hyperparameters\": os.path.join(base_dir, 'Models/Random_Forest_Parameters/Non_Curated/Classification'),\n",
    "    \"non_curated_rf_regression_hyperparameters\": os.path.join(base_dir, 'Models/Random_Forest_Parameters/Non_Curated/Regression')\n",
    "}\n",
    "\n",
    "for directory in hyperparams_dir.values():\n",
    "    os.makedirs(directory, exist_ok=True)"
   ]
  },
  {
   "cell_type": "markdown",
   "id": "b2a48966-0a54-4b54-9848-5bc775f1f813",
   "metadata": {},
   "source": [
    "# Assigning Targets and Fingerprints"
   ]
  },
  {
   "cell_type": "code",
   "execution_count": 3,
   "id": "ca0ca1f4-374c-48dd-a9e3-c1427e33d7bd",
   "metadata": {},
   "outputs": [],
   "source": [
    "targets = ['CHEMBL4078', 'CHEMBL279', 'CHEMBL5763', 'CHEMBL240', 'CHEMBL4005']\n",
    "fingerprints = ['ECFP', 'MACCS Keys', 'AP2', 'AP3', 'AP2+AP3']"
   ]
  },
  {
   "cell_type": "markdown",
   "id": "fb7b2cf7-d4a0-4292-a0da-4cd26db9c225",
   "metadata": {},
   "source": [
    "# Defining Main Functions"
   ]
  },
  {
   "cell_type": "code",
   "execution_count": 4,
   "id": "5b740fe5-0dfa-4192-9839-cc007206a454",
   "metadata": {},
   "outputs": [],
   "source": [
    "def load_fingerprinted_data(file_path):\n",
    "    df = pd.read_csv(file_path)\n",
    "    for fp in fingerprints:\n",
    "        df[fp] = df[fp].apply(DataStructs.CreateFromBitString)\n",
    "    return df\n",
    "\n",
    "def convert_fp(fp):\n",
    "    arr = np.zeros((1,), dtype=np.int32)\n",
    "    DataStructs.ConvertToNumpyArray(fp, arr)\n",
    "    return arr\n",
    "\n",
    "def prepare_data(df, fingerprint, target_column):\n",
    "    X = np.array([convert_fp(fp) for fp in df[fingerprint]])\n",
    "    y = df[target_column].values\n",
    "    return X, y\n",
    "\n",
    "def tune_rf_hyperparameters(X_train, y_train, classification=True):\n",
    "    param_dist = {\n",
    "        'n_estimators': [100, 200, 300, 400, 500],\n",
    "        'max_depth': [None, 5, 10, 20, 30],\n",
    "        'min_samples_split': [5, 10, 15, 20, 25],\n",
    "        'min_samples_leaf': [5, 10, 20],\n",
    "        'max_features': ['sqrt', 'log2']\n",
    "    }\n",
    "    \n",
    "    if classification:\n",
    "        param_dist['class_weight'] = ['balanced']\n",
    "        model = RandomForestClassifier(random_state=42, n_jobs=-1)\n",
    "        cv = StratifiedKFold(n_splits=5, shuffle=True, random_state=42)\n",
    "    else:\n",
    "        model = RandomForestRegressor(random_state=42, n_jobs=-1)\n",
    "        cv = KFold(n_splits=5, shuffle=True, random_state=42)\n",
    "    \n",
    "    random_search = RandomizedSearchCV(estimator=model, param_distributions=param_dist, n_iter=200, cv=cv, n_jobs=-1, verbose=0, random_state=42)\n",
    "    random_search.fit(X_train, y_train)\n",
    "    \n",
    "    return random_search.best_params_"
   ]
  },
  {
   "cell_type": "markdown",
   "id": "eb1c80a5-5326-4c42-8a63-9094827d68a4",
   "metadata": {},
   "source": [
    "# Main execution"
   ]
  },
  {
   "cell_type": "code",
   "execution_count": 5,
   "id": "91c98080-6788-4d10-8185-a1cca38db817",
   "metadata": {},
   "outputs": [
    {
     "name": "stdout",
     "output_type": "stream",
     "text": [
      "Hyperparameter tuning for CHEMBL4078 completed.\n",
      "Hyperparameter tuning for CHEMBL279 completed.\n",
      "Hyperparameter tuning for CHEMBL5763 completed.\n",
      "Hyperparameter tuning for CHEMBL240 completed.\n",
      "Hyperparameter tuning for CHEMBL4005 completed.\n"
     ]
    }
   ],
   "source": [
    "for target in targets:\n",
    "    for fingerprint in fingerprints:\n",
    "        train_file_path = os.path.join(train_data_directory, f'{target}_Train.csv')\n",
    "        df = load_fingerprinted_data(train_file_path)\n",
    "\n",
    "        X_train, y_train = prepare_data(df, fingerprint, 'activity')\n",
    "        best_params_classification = tune_rf_hyperparameters(X_train, y_train, classification=True)\n",
    "        with open(os.path.join(hyperparams_dir['non_curated_rf_classification_hyperparameters'], f'{target}_{fingerprint}_Best_RF_Non_Curated_Classification_Hyperparams.json'), 'w') as f:\n",
    "            json.dump(best_params_classification, f)\n",
    "\n",
    "        X_train, y_train = prepare_data(df, fingerprint, 'pchembl_value')\n",
    "        best_params_regression = tune_rf_hyperparameters(X_train, y_train, classification=False)\n",
    "        with open(os.path.join(hyperparams_dir['non_curated_rf_regression_hyperparameters'], f'{target}_{fingerprint}_Best_RF_Non_Curated_Regression_Hyperparams.json'), 'w') as f:\n",
    "            json.dump(best_params_regression, f)\n",
    "\n",
    "    print(f\"Hyperparameter tuning for {target} completed.\")"
   ]
  }
 ],
 "metadata": {
  "kernelspec": {
   "display_name": "Python 3 (ipykernel)",
   "language": "python",
   "name": "python3"
  },
  "language_info": {
   "codemirror_mode": {
    "name": "ipython",
    "version": 3
   },
   "file_extension": ".py",
   "mimetype": "text/x-python",
   "name": "python",
   "nbconvert_exporter": "python",
   "pygments_lexer": "ipython3",
   "version": "3.11.9"
  }
 },
 "nbformat": 4,
 "nbformat_minor": 5
}
